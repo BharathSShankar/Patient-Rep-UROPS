{
 "cells": [
  {
   "cell_type": "code",
   "execution_count": 1,
   "id": "3a7d4776",
   "metadata": {},
   "outputs": [
    {
     "name": "stderr",
     "output_type": "stream",
     "text": [
      "/Users/bharathshankar/Documents/Y3S1 Mods/UROPS/Patient-Rep-UROPS/uropVenv/lib/python3.9/site-packages/tqdm/auto.py:22: TqdmWarning: IProgress not found. Please update jupyter and ipywidgets. See https://ipywidgets.readthedocs.io/en/stable/user_install.html\n",
      "  from .autonotebook import tqdm as notebook_tqdm\n"
     ]
    }
   ],
   "source": [
    "import torch \n",
    "import pandas as pd\n",
    "import numpy as np\n",
    "import seaborn as sns\n",
    "import random\n",
    "import matplotlib.pyplot as plt\n",
    "import json\n",
    "import pickle\n",
    "import sklearn\n",
    "from sklearn.preprocessing import LabelEncoder\n",
    "from sklearn.manifold import TSNE\n",
    "from sklearn.metrics import roc_curve, roc_auc_score, RocCurveDisplay, ConfusionMatrixDisplay, classification_report"
   ]
  },
  {
   "cell_type": "code",
   "execution_count": 2,
   "id": "02ffb53c",
   "metadata": {},
   "outputs": [],
   "source": [
    "PATIENT_LIST = '../data/dataByPatient/patientList.pkl'\n",
    "with open(PATIENT_LIST, 'rb') as pickle_file:\n",
    "    patientList = pickle.load(pickle_file) \n",
    "\n",
    "random.Random(42).shuffle(patientList)\n",
    "\n",
    "test_data = patientList[44000:]\n",
    "adm_data = pd.read_csv(\"../data/patientData/ADMISSIONS.csv\")"
   ]
  },
  {
   "cell_type": "code",
   "execution_count": 3,
   "id": "b598a2d0",
   "metadata": {},
   "outputs": [],
   "source": [
    "adm_type = []\n",
    "for i in test_data:\n",
    "    adm_type.append(adm_data[adm_data[\"SUBJECT_ID\"] == i][\"ADMISSION_TYPE\"].iloc[0])"
   ]
  },
  {
   "cell_type": "code",
   "execution_count": 4,
   "id": "f6baf123",
   "metadata": {},
   "outputs": [],
   "source": [
    "def convert_str(x):\n",
    "    return json.loads(\"\".join(x[7:-1].split(\"\\n\")))\n",
    "def convert_val(x):\n",
    "    return float(x[8:-2])\n",
    "def convert_val_out(x):\n",
    "    return int(x[8:-2])"
   ]
  },
  {
   "cell_type": "code",
   "execution_count": 5,
   "id": "5344272a",
   "metadata": {},
   "outputs": [],
   "source": [
    "beta0_res = pd.read_csv(\"../Results/beta0.csv\")\n",
    "beta0_res = beta0_res[[\"embeddings\", \"prediction\", \"actual\"]]\n",
    "beta0_res[\"embeddings\"] = beta0_res[[\"embeddings\"]].apply(\n",
    "    lambda x: [convert_str(y) for y in x]\n",
    ")\n",
    "beta0_res[[\"prediction\", \"actual\"]] = beta0_res[[\"prediction\", \"actual\"]].apply(\n",
    "    lambda x: [convert_val(y) for y in x]\n",
    ")\n",
    "beta0_res[\"Adm_Type\"] = adm_type\n",
    "beta0_res[\"Adm_Type\"] = LabelEncoder().fit_transform(beta0_res[\"Adm_Type\"].astype(\"category\"))"
   ]
  },
  {
   "cell_type": "code",
   "execution_count": 6,
   "id": "944f14f9",
   "metadata": {},
   "outputs": [
    {
     "data": {
      "text/html": [
       "<div>\n",
       "<style scoped>\n",
       "    .dataframe tbody tr th:only-of-type {\n",
       "        vertical-align: middle;\n",
       "    }\n",
       "\n",
       "    .dataframe tbody tr th {\n",
       "        vertical-align: top;\n",
       "    }\n",
       "\n",
       "    .dataframe thead th {\n",
       "        text-align: right;\n",
       "    }\n",
       "</style>\n",
       "<table border=\"1\" class=\"dataframe\">\n",
       "  <thead>\n",
       "    <tr style=\"text-align: right;\">\n",
       "      <th></th>\n",
       "      <th>embeddings</th>\n",
       "      <th>prediction</th>\n",
       "      <th>actual</th>\n",
       "      <th>Adm_Type</th>\n",
       "    </tr>\n",
       "  </thead>\n",
       "  <tbody>\n",
       "    <tr>\n",
       "      <th>0</th>\n",
       "      <td>[1.1879, -1.9835, 20.585, -5.9935, 6.6371, -2....</td>\n",
       "      <td>0.0451</td>\n",
       "      <td>0.0</td>\n",
       "      <td>1</td>\n",
       "    </tr>\n",
       "    <tr>\n",
       "      <th>1</th>\n",
       "      <td>[29.183, -7.5059, 40.311, 0.011579, -23.03, 3....</td>\n",
       "      <td>0.8711</td>\n",
       "      <td>1.0</td>\n",
       "      <td>1</td>\n",
       "    </tr>\n",
       "    <tr>\n",
       "      <th>2</th>\n",
       "      <td>[-0.0828, 3.5813, 9.1339, -7.9791, -0.065, -4....</td>\n",
       "      <td>0.6436</td>\n",
       "      <td>0.0</td>\n",
       "      <td>1</td>\n",
       "    </tr>\n",
       "    <tr>\n",
       "      <th>3</th>\n",
       "      <td>[6.4445, 4.7176, 37.8902, -23.2115, -48.9313, ...</td>\n",
       "      <td>0.5492</td>\n",
       "      <td>1.0</td>\n",
       "      <td>1</td>\n",
       "    </tr>\n",
       "    <tr>\n",
       "      <th>4</th>\n",
       "      <td>[-1.1943, 1.4295, 14.4, -8.1377, 2.6219, -4.05...</td>\n",
       "      <td>0.0987</td>\n",
       "      <td>0.0</td>\n",
       "      <td>1</td>\n",
       "    </tr>\n",
       "    <tr>\n",
       "      <th>...</th>\n",
       "      <td>...</td>\n",
       "      <td>...</td>\n",
       "      <td>...</td>\n",
       "      <td>...</td>\n",
       "    </tr>\n",
       "    <tr>\n",
       "      <th>2515</th>\n",
       "      <td>[9.9697, -6.1723, 14.064, 2.4629, 6.3768, 2.34...</td>\n",
       "      <td>0.8805</td>\n",
       "      <td>1.0</td>\n",
       "      <td>1</td>\n",
       "    </tr>\n",
       "    <tr>\n",
       "      <th>2516</th>\n",
       "      <td>[8.8731, -5.1517, 13.7814, 8.5331, 2.9825, 0.8...</td>\n",
       "      <td>0.8269</td>\n",
       "      <td>1.0</td>\n",
       "      <td>1</td>\n",
       "    </tr>\n",
       "    <tr>\n",
       "      <th>2517</th>\n",
       "      <td>[-2.5339, 3.8198, 20.3302, 20.4052, -2.9296, -...</td>\n",
       "      <td>0.5253</td>\n",
       "      <td>1.0</td>\n",
       "      <td>1</td>\n",
       "    </tr>\n",
       "    <tr>\n",
       "      <th>2518</th>\n",
       "      <td>[2.4191, -2.8538, 20.105, -2.3745, 11.12, 0.24...</td>\n",
       "      <td>0.0032</td>\n",
       "      <td>0.0</td>\n",
       "      <td>2</td>\n",
       "    </tr>\n",
       "    <tr>\n",
       "      <th>2519</th>\n",
       "      <td>[-1.4362, 2.6276, 10.716, -1.105, 5.6393, -2.3...</td>\n",
       "      <td>0.3409</td>\n",
       "      <td>1.0</td>\n",
       "      <td>1</td>\n",
       "    </tr>\n",
       "  </tbody>\n",
       "</table>\n",
       "<p>2520 rows × 4 columns</p>\n",
       "</div>"
      ],
      "text/plain": [
       "                                             embeddings  prediction  actual  \\\n",
       "0     [1.1879, -1.9835, 20.585, -5.9935, 6.6371, -2....      0.0451     0.0   \n",
       "1     [29.183, -7.5059, 40.311, 0.011579, -23.03, 3....      0.8711     1.0   \n",
       "2     [-0.0828, 3.5813, 9.1339, -7.9791, -0.065, -4....      0.6436     0.0   \n",
       "3     [6.4445, 4.7176, 37.8902, -23.2115, -48.9313, ...      0.5492     1.0   \n",
       "4     [-1.1943, 1.4295, 14.4, -8.1377, 2.6219, -4.05...      0.0987     0.0   \n",
       "...                                                 ...         ...     ...   \n",
       "2515  [9.9697, -6.1723, 14.064, 2.4629, 6.3768, 2.34...      0.8805     1.0   \n",
       "2516  [8.8731, -5.1517, 13.7814, 8.5331, 2.9825, 0.8...      0.8269     1.0   \n",
       "2517  [-2.5339, 3.8198, 20.3302, 20.4052, -2.9296, -...      0.5253     1.0   \n",
       "2518  [2.4191, -2.8538, 20.105, -2.3745, 11.12, 0.24...      0.0032     0.0   \n",
       "2519  [-1.4362, 2.6276, 10.716, -1.105, 5.6393, -2.3...      0.3409     1.0   \n",
       "\n",
       "      Adm_Type  \n",
       "0            1  \n",
       "1            1  \n",
       "2            1  \n",
       "3            1  \n",
       "4            1  \n",
       "...        ...  \n",
       "2515         1  \n",
       "2516         1  \n",
       "2517         1  \n",
       "2518         2  \n",
       "2519         1  \n",
       "\n",
       "[2520 rows x 4 columns]"
      ]
     },
     "execution_count": 6,
     "metadata": {},
     "output_type": "execute_result"
    }
   ],
   "source": [
    "beta0_res"
   ]
  },
  {
   "cell_type": "code",
   "execution_count": 7,
   "id": "6377c4ae",
   "metadata": {},
   "outputs": [
    {
     "data": {
      "text/plain": [
       "0.8198400286944045"
      ]
     },
     "execution_count": 7,
     "metadata": {},
     "output_type": "execute_result"
    }
   ],
   "source": [
    "roc_auc_score(beta0_res[\"actual\"].apply(int), beta0_res[\"prediction\"])"
   ]
  },
  {
   "cell_type": "code",
   "execution_count": 8,
   "id": "dd39a761",
   "metadata": {},
   "outputs": [
    {
     "data": {
      "text/plain": [
       "0       0\n",
       "1       1\n",
       "2       0\n",
       "3       1\n",
       "4       0\n",
       "       ..\n",
       "2515    1\n",
       "2516    1\n",
       "2517    1\n",
       "2518    0\n",
       "2519    1\n",
       "Name: actual, Length: 2520, dtype: int64"
      ]
     },
     "execution_count": 8,
     "metadata": {},
     "output_type": "execute_result"
    }
   ],
   "source": [
    "beta0_res[\"actual\"].apply(int)"
   ]
  },
  {
   "cell_type": "code",
   "execution_count": 9,
   "id": "ea9df218",
   "metadata": {},
   "outputs": [
    {
     "data": {
      "text/plain": [
       "Text(0.5, 1.0, 'Confusion Matrix')"
      ]
     },
     "execution_count": 9,
     "metadata": {},
     "output_type": "execute_result"
    },
    {
     "data": {
      "image/png": "[encoded data removed]",
      "text/plain": [
       "<Figure size 640x480 with 2 Axes>"
      ]
     },
     "metadata": {},
     "output_type": "display_data"
    }
   ],
   "source": [
    "disp = ConfusionMatrixDisplay.from_predictions(\n",
    " beta0_res[\"actual\"].apply(int), beta0_res[\"prediction\"].apply(round))\n",
    "disp.ax_.set_title(\"Confusion Matrix\")"
   ]
  },
  {
   "cell_type": "code",
   "execution_count": 10,
   "id": "80d0d1e5",
   "metadata": {},
   "outputs": [
    {
     "data": {
      "text/plain": [
       "Text(0.5, 1.0, 'AUC-ROC Curve')"
      ]
     },
     "execution_count": 10,
     "metadata": {},
     "output_type": "execute_result"
    },
    {
     "data": {
      "image/png": "[encoded data removed]",
      "text/plain": [
       "<Figure size 640x480 with 1 Axes>"
      ]
     },
     "metadata": {},
     "output_type": "display_data"
    }
   ],
   "source": [
    "plt.style.use('ggplot')\n",
    "disp = RocCurveDisplay.from_predictions(\n",
    " beta0_res[\"actual\"].apply(int), beta0_res[\"prediction\"], )\n",
    "disp.ax_.set_title(\"AUC-ROC Curve\")"
   ]
  },
  {
   "cell_type": "code",
   "execution_count": 11,
   "id": "1fed77ee",
   "metadata": {},
   "outputs": [
    {
     "name": "stdout",
     "output_type": "stream",
     "text": [
      "              precision    recall  f1-score   support\n",
      "\n",
      "           0       0.89      0.61      0.73      1700\n",
      "           1       0.51      0.85      0.64       820\n",
      "\n",
      "    accuracy                           0.69      2520\n",
      "   macro avg       0.70      0.73      0.68      2520\n",
      "weighted avg       0.77      0.69      0.70      2520\n",
      "\n"
     ]
    }
   ],
   "source": [
    "print(classification_report(beta0_res[\"actual\"].apply(int), beta0_res[\"prediction\"].apply(round)))"
   ]
  },
  {
   "cell_type": "code",
   "execution_count": 12,
   "id": "ca62af62",
   "metadata": {},
   "outputs": [
    {
     "name": "stderr",
     "output_type": "stream",
     "text": [
      "/Users/bharathshankar/Documents/Y3S1 Mods/UROPS/Patient-Rep-UROPS/uropVenv/lib/python3.9/site-packages/sklearn/manifold/_t_sne.py:810: FutureWarning: The default learning rate in TSNE will change from 200.0 to 'auto' in 1.2.\n",
      "  warnings.warn(\n",
      "/Users/bharathshankar/Documents/Y3S1 Mods/UROPS/Patient-Rep-UROPS/uropVenv/lib/python3.9/site-packages/sklearn/manifold/_t_sne.py:996: FutureWarning: The PCA initialization in TSNE will change to have the standard deviation of PC1 equal to 1e-4 in 1.2. This will ensure better convergence.\n",
      "  warnings.warn(\n"
     ]
    }
   ],
   "source": [
    "emb_dat = np.array(list(beta0_res[\"embeddings\"].values))\n",
    "tSNE_dat = TSNE(2, perplexity = 40, init = \"pca\").fit_transform(emb_dat)"
   ]
  },
  {
   "cell_type": "code",
   "execution_count": 13,
   "id": "a18b22e6",
   "metadata": {},
   "outputs": [
    {
     "data": {
      "text/plain": [
       "(2520, 2)"
      ]
     },
     "execution_count": 13,
     "metadata": {},
     "output_type": "execute_result"
    }
   ],
   "source": [
    "tSNE_dat.shape"
   ]
  },
  {
   "cell_type": "code",
   "execution_count": 14,
   "id": "de1b907d",
   "metadata": {},
   "outputs": [
    {
     "data": {
      "text/plain": [
       "<matplotlib.collections.PathCollection at 0x283a03d90>"
      ]
     },
     "execution_count": 14,
     "metadata": {},
     "output_type": "execute_result"
    },
    {
     "data": {
      "image/png": "[encoded data removed]",
      "text/plain": [
       "<Figure size 640x480 with 1 Axes>"
      ]
     },
     "metadata": {},
     "output_type": "display_data"
    }
   ],
   "source": [
    "plt.scatter(tSNE_dat[:, 0], tSNE_dat[:, 1], c = beta0_res[\"Adm_Type\"])"
   ]
  },
  {
   "cell_type": "code",
   "execution_count": 19,
   "id": "49143e0e",
   "metadata": {},
   "outputs": [
    {
     "data": {
      "text/html": [
       "<div>\n",
       "<style scoped>\n",
       "    .dataframe tbody tr th:only-of-type {\n",
       "        vertical-align: middle;\n",
       "    }\n",
       "\n",
       "    .dataframe tbody tr th {\n",
       "        vertical-align: top;\n",
       "    }\n",
       "\n",
       "    .dataframe thead th {\n",
       "        text-align: right;\n",
       "    }\n",
       "</style>\n",
       "<table border=\"1\" class=\"dataframe\">\n",
       "  <thead>\n",
       "    <tr style=\"text-align: right;\">\n",
       "      <th></th>\n",
       "      <th>loss</th>\n",
       "      <th>mean_accuracy</th>\n",
       "      <th>time_this_iter_s</th>\n",
       "      <th>should_checkpoint</th>\n",
       "      <th>done</th>\n",
       "      <th>timesteps_total</th>\n",
       "      <th>episodes_total</th>\n",
       "      <th>training_iteration</th>\n",
       "      <th>trial_id</th>\n",
       "      <th>experiment_id</th>\n",
       "      <th>...</th>\n",
       "      <th>timestamp</th>\n",
       "      <th>time_total_s</th>\n",
       "      <th>pid</th>\n",
       "      <th>hostname</th>\n",
       "      <th>node_ip</th>\n",
       "      <th>config</th>\n",
       "      <th>time_since_restore</th>\n",
       "      <th>timesteps_since_restore</th>\n",
       "      <th>iterations_since_restore</th>\n",
       "      <th>warmup_time</th>\n",
       "    </tr>\n",
       "  </thead>\n",
       "  <tbody>\n",
       "    <tr>\n",
       "      <th>0</th>\n",
       "      <td>0.559345</td>\n",
       "      <td>0.72600</td>\n",
       "      <td>2519.648783</td>\n",
       "      <td>True</td>\n",
       "      <td>False</td>\n",
       "      <td>NaN</td>\n",
       "      <td>NaN</td>\n",
       "      <td>1</td>\n",
       "      <td>2c545_00000</td>\n",
       "      <td>fc2097265e0548a08977f80ccf8f6ceb</td>\n",
       "      <td>...</td>\n",
       "      <td>2022-11-19 18:50:34</td>\n",
       "      <td>2519.648783</td>\n",
       "      <td>386483</td>\n",
       "      <td>volta07</td>\n",
       "      <td>172.18.126.104</td>\n",
       "      <td>{'num_layers': 4, 'embedDim': 512, 'finalDim':...</td>\n",
       "      <td>2519.648783</td>\n",
       "      <td>0</td>\n",
       "      <td>1</td>\n",
       "      <td>0.003633</td>\n",
       "    </tr>\n",
       "    <tr>\n",
       "      <th>1</th>\n",
       "      <td>0.539680</td>\n",
       "      <td>0.72750</td>\n",
       "      <td>2657.766961</td>\n",
       "      <td>True</td>\n",
       "      <td>False</td>\n",
       "      <td>NaN</td>\n",
       "      <td>NaN</td>\n",
       "      <td>2</td>\n",
       "      <td>2c545_00000</td>\n",
       "      <td>fc2097265e0548a08977f80ccf8f6ceb</td>\n",
       "      <td>...</td>\n",
       "      <td>2022-11-19 19:34:52</td>\n",
       "      <td>5177.415744</td>\n",
       "      <td>386483</td>\n",
       "      <td>volta07</td>\n",
       "      <td>172.18.126.104</td>\n",
       "      <td>{'num_layers': 4, 'embedDim': 512, 'finalDim':...</td>\n",
       "      <td>5177.415744</td>\n",
       "      <td>0</td>\n",
       "      <td>2</td>\n",
       "      <td>0.003633</td>\n",
       "    </tr>\n",
       "    <tr>\n",
       "      <th>2</th>\n",
       "      <td>0.520899</td>\n",
       "      <td>0.73650</td>\n",
       "      <td>2654.775583</td>\n",
       "      <td>True</td>\n",
       "      <td>False</td>\n",
       "      <td>NaN</td>\n",
       "      <td>NaN</td>\n",
       "      <td>3</td>\n",
       "      <td>2c545_00000</td>\n",
       "      <td>fc2097265e0548a08977f80ccf8f6ceb</td>\n",
       "      <td>...</td>\n",
       "      <td>2022-11-19 20:19:07</td>\n",
       "      <td>7832.191327</td>\n",
       "      <td>386483</td>\n",
       "      <td>volta07</td>\n",
       "      <td>172.18.126.104</td>\n",
       "      <td>{'num_layers': 4, 'embedDim': 512, 'finalDim':...</td>\n",
       "      <td>7832.191327</td>\n",
       "      <td>0</td>\n",
       "      <td>3</td>\n",
       "      <td>0.003633</td>\n",
       "    </tr>\n",
       "    <tr>\n",
       "      <th>3</th>\n",
       "      <td>0.547510</td>\n",
       "      <td>0.73550</td>\n",
       "      <td>2640.054673</td>\n",
       "      <td>True</td>\n",
       "      <td>False</td>\n",
       "      <td>NaN</td>\n",
       "      <td>NaN</td>\n",
       "      <td>4</td>\n",
       "      <td>2c545_00000</td>\n",
       "      <td>fc2097265e0548a08977f80ccf8f6ceb</td>\n",
       "      <td>...</td>\n",
       "      <td>2022-11-19 21:03:07</td>\n",
       "      <td>10472.246000</td>\n",
       "      <td>386483</td>\n",
       "      <td>volta07</td>\n",
       "      <td>172.18.126.104</td>\n",
       "      <td>{'num_layers': 4, 'embedDim': 512, 'finalDim':...</td>\n",
       "      <td>10472.246000</td>\n",
       "      <td>0</td>\n",
       "      <td>4</td>\n",
       "      <td>0.003633</td>\n",
       "    </tr>\n",
       "    <tr>\n",
       "      <th>4</th>\n",
       "      <td>0.506329</td>\n",
       "      <td>0.74825</td>\n",
       "      <td>2601.775525</td>\n",
       "      <td>True</td>\n",
       "      <td>False</td>\n",
       "      <td>NaN</td>\n",
       "      <td>NaN</td>\n",
       "      <td>5</td>\n",
       "      <td>2c545_00000</td>\n",
       "      <td>fc2097265e0548a08977f80ccf8f6ceb</td>\n",
       "      <td>...</td>\n",
       "      <td>2022-11-19 21:46:29</td>\n",
       "      <td>13074.021526</td>\n",
       "      <td>386483</td>\n",
       "      <td>volta07</td>\n",
       "      <td>172.18.126.104</td>\n",
       "      <td>{'num_layers': 4, 'embedDim': 512, 'finalDim':...</td>\n",
       "      <td>13074.021526</td>\n",
       "      <td>0</td>\n",
       "      <td>5</td>\n",
       "      <td>0.003633</td>\n",
       "    </tr>\n",
       "    <tr>\n",
       "      <th>5</th>\n",
       "      <td>0.556977</td>\n",
       "      <td>0.73025</td>\n",
       "      <td>2724.012387</td>\n",
       "      <td>True</td>\n",
       "      <td>False</td>\n",
       "      <td>NaN</td>\n",
       "      <td>NaN</td>\n",
       "      <td>6</td>\n",
       "      <td>2c545_00000</td>\n",
       "      <td>fc2097265e0548a08977f80ccf8f6ceb</td>\n",
       "      <td>...</td>\n",
       "      <td>2022-11-19 22:31:53</td>\n",
       "      <td>15798.033913</td>\n",
       "      <td>386483</td>\n",
       "      <td>volta07</td>\n",
       "      <td>172.18.126.104</td>\n",
       "      <td>{'num_layers': 4, 'embedDim': 512, 'finalDim':...</td>\n",
       "      <td>15798.033913</td>\n",
       "      <td>0</td>\n",
       "      <td>6</td>\n",
       "      <td>0.003633</td>\n",
       "    </tr>\n",
       "    <tr>\n",
       "      <th>6</th>\n",
       "      <td>0.511723</td>\n",
       "      <td>0.74950</td>\n",
       "      <td>3125.624431</td>\n",
       "      <td>True</td>\n",
       "      <td>False</td>\n",
       "      <td>NaN</td>\n",
       "      <td>NaN</td>\n",
       "      <td>7</td>\n",
       "      <td>2c545_00000</td>\n",
       "      <td>fc2097265e0548a08977f80ccf8f6ceb</td>\n",
       "      <td>...</td>\n",
       "      <td>2022-11-19 23:23:58</td>\n",
       "      <td>18923.658344</td>\n",
       "      <td>386483</td>\n",
       "      <td>volta07</td>\n",
       "      <td>172.18.126.104</td>\n",
       "      <td>{'num_layers': 4, 'embedDim': 512, 'finalDim':...</td>\n",
       "      <td>18923.658344</td>\n",
       "      <td>0</td>\n",
       "      <td>7</td>\n",
       "      <td>0.003633</td>\n",
       "    </tr>\n",
       "    <tr>\n",
       "      <th>7</th>\n",
       "      <td>0.477834</td>\n",
       "      <td>0.76750</td>\n",
       "      <td>3390.671004</td>\n",
       "      <td>True</td>\n",
       "      <td>False</td>\n",
       "      <td>NaN</td>\n",
       "      <td>NaN</td>\n",
       "      <td>8</td>\n",
       "      <td>2c545_00000</td>\n",
       "      <td>fc2097265e0548a08977f80ccf8f6ceb</td>\n",
       "      <td>...</td>\n",
       "      <td>2022-11-20 00:20:29</td>\n",
       "      <td>22314.329348</td>\n",
       "      <td>386483</td>\n",
       "      <td>volta07</td>\n",
       "      <td>172.18.126.104</td>\n",
       "      <td>{'num_layers': 4, 'embedDim': 512, 'finalDim':...</td>\n",
       "      <td>22314.329348</td>\n",
       "      <td>0</td>\n",
       "      <td>8</td>\n",
       "      <td>0.003633</td>\n",
       "    </tr>\n",
       "  </tbody>\n",
       "</table>\n",
       "<p>8 rows × 21 columns</p>\n",
       "</div>"
      ],
      "text/plain": [
       "       loss  mean_accuracy  time_this_iter_s  should_checkpoint   done  \\\n",
       "0  0.559345        0.72600       2519.648783               True  False   \n",
       "1  0.539680        0.72750       2657.766961               True  False   \n",
       "2  0.520899        0.73650       2654.775583               True  False   \n",
       "3  0.547510        0.73550       2640.054673               True  False   \n",
       "4  0.506329        0.74825       2601.775525               True  False   \n",
       "5  0.556977        0.73025       2724.012387               True  False   \n",
       "6  0.511723        0.74950       3125.624431               True  False   \n",
       "7  0.477834        0.76750       3390.671004               True  False   \n",
       "\n",
       "   timesteps_total  episodes_total  training_iteration     trial_id  \\\n",
       "0              NaN             NaN                   1  2c545_00000   \n",
       "1              NaN             NaN                   2  2c545_00000   \n",
       "2              NaN             NaN                   3  2c545_00000   \n",
       "3              NaN             NaN                   4  2c545_00000   \n",
       "4              NaN             NaN                   5  2c545_00000   \n",
       "5              NaN             NaN                   6  2c545_00000   \n",
       "6              NaN             NaN                   7  2c545_00000   \n",
       "7              NaN             NaN                   8  2c545_00000   \n",
       "\n",
       "                      experiment_id  ...           timestamp  time_total_s  \\\n",
       "0  fc2097265e0548a08977f80ccf8f6ceb  ... 2022-11-19 18:50:34   2519.648783   \n",
       "1  fc2097265e0548a08977f80ccf8f6ceb  ... 2022-11-19 19:34:52   5177.415744   \n",
       "2  fc2097265e0548a08977f80ccf8f6ceb  ... 2022-11-19 20:19:07   7832.191327   \n",
       "3  fc2097265e0548a08977f80ccf8f6ceb  ... 2022-11-19 21:03:07  10472.246000   \n",
       "4  fc2097265e0548a08977f80ccf8f6ceb  ... 2022-11-19 21:46:29  13074.021526   \n",
       "5  fc2097265e0548a08977f80ccf8f6ceb  ... 2022-11-19 22:31:53  15798.033913   \n",
       "6  fc2097265e0548a08977f80ccf8f6ceb  ... 2022-11-19 23:23:58  18923.658344   \n",
       "7  fc2097265e0548a08977f80ccf8f6ceb  ... 2022-11-20 00:20:29  22314.329348   \n",
       "\n",
       "      pid  hostname         node_ip  \\\n",
       "0  386483   volta07  172.18.126.104   \n",
       "1  386483   volta07  172.18.126.104   \n",
       "2  386483   volta07  172.18.126.104   \n",
       "3  386483   volta07  172.18.126.104   \n",
       "4  386483   volta07  172.18.126.104   \n",
       "5  386483   volta07  172.18.126.104   \n",
       "6  386483   volta07  172.18.126.104   \n",
       "7  386483   volta07  172.18.126.104   \n",
       "\n",
       "                                              config time_since_restore  \\\n",
       "0  {'num_layers': 4, 'embedDim': 512, 'finalDim':...        2519.648783   \n",
       "1  {'num_layers': 4, 'embedDim': 512, 'finalDim':...        5177.415744   \n",
       "2  {'num_layers': 4, 'embedDim': 512, 'finalDim':...        7832.191327   \n",
       "3  {'num_layers': 4, 'embedDim': 512, 'finalDim':...       10472.246000   \n",
       "4  {'num_layers': 4, 'embedDim': 512, 'finalDim':...       13074.021526   \n",
       "5  {'num_layers': 4, 'embedDim': 512, 'finalDim':...       15798.033913   \n",
       "6  {'num_layers': 4, 'embedDim': 512, 'finalDim':...       18923.658344   \n",
       "7  {'num_layers': 4, 'embedDim': 512, 'finalDim':...       22314.329348   \n",
       "\n",
       "   timesteps_since_restore  iterations_since_restore  warmup_time  \n",
       "0                        0                         1     0.003633  \n",
       "1                        0                         2     0.003633  \n",
       "2                        0                         3     0.003633  \n",
       "3                        0                         4     0.003633  \n",
       "4                        0                         5     0.003633  \n",
       "5                        0                         6     0.003633  \n",
       "6                        0                         7     0.003633  \n",
       "7                        0                         8     0.003633  \n",
       "\n",
       "[8 rows x 21 columns]"
      ]
     },
     "execution_count": 19,
     "metadata": {},
     "output_type": "execute_result"
    }
   ],
   "source": [
    "pd.read_json(\n",
    "    \"../checkpoint/tune_MIMIC/train_model_2c545_00000_0_batch_size=16,beta=2,embedDim=512,finalDim=120,lr=0.0000,num_epochs=10,num_layers=4,wd=0.0000_2022-11-20_02-08-30/result.json\",\n",
    "    lines=True\n",
    ")\n"
   ]
  },
  {
   "cell_type": "code",
   "execution_count": null,
   "id": "79b30de7",
   "metadata": {},
   "outputs": [
    {
     "name": "stdout",
     "output_type": "stream",
     "text": [
      "TensorFlow installation not found - running with reduced feature set.\n",
      "Serving TensorBoard on localhost; to expose to the network, use a proxy or pass --bind_all\n",
      "TensorBoard 2.11.0 at http://localhost:6006/ (Press CTRL+C to quit)\n"
     ]
    }
   ],
   "source": [
    "!tensorboard --logdir=../checkpoint/tune_MIMIC"
   ]
  },
  {
   "cell_type": "code",
   "execution_count": null,
   "id": "bc5a4e47",
   "metadata": {},
   "outputs": [],
   "source": []
  }
 ],
 "metadata": {
  "kernelspec": {
   "display_name": "uropEnv",
   "language": "python",
   "name": "uropenv"
  },
  "language_info": {
   "codemirror_mode": {
    "name": "ipython",
    "version": 3
   },
   "file_extension": ".py",
   "mimetype": "text/x-python",
   "name": "python",
   "nbconvert_exporter": "python",
   "pygments_lexer": "ipython3",
   "version": "3.9.10"
  }
 },
 "nbformat": 4,
 "nbformat_minor": 5
}
